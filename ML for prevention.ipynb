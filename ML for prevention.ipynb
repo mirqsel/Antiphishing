{
 "cells": [
  {
   "cell_type": "code",
   "execution_count": 3,
   "id": "2e3468ec-ae72-4538-a6d6-f9f58868b61a",
   "metadata": {
    "tags": []
   },
   "outputs": [
    {
     "name": "stdout",
     "output_type": "stream",
     "text": [
      "Requirement already satisfied: pandas in c:\\users\\user\\anaconda3\\lib\\site-packages (2.0.3)\n",
      "Requirement already satisfied: scikit-learn in c:\\users\\user\\anaconda3\\lib\\site-packages (1.6.1)\n",
      "Requirement already satisfied: requests in c:\\users\\user\\anaconda3\\lib\\site-packages (2.31.0)\n",
      "Requirement already satisfied: beautifulsoup4 in c:\\users\\user\\anaconda3\\lib\\site-packages (4.12.2)\n",
      "Requirement already satisfied: whois in c:\\users\\user\\anaconda3\\lib\\site-packages (1.20240129.2)\n",
      "Requirement already satisfied: joblib in c:\\users\\user\\anaconda3\\lib\\site-packages (1.2.0)\n",
      "Requirement already satisfied: python-dateutil>=2.8.2 in c:\\users\\user\\anaconda3\\lib\\site-packages (from pandas) (2.8.2)\n",
      "Requirement already satisfied: pytz>=2020.1 in c:\\users\\user\\anaconda3\\lib\\site-packages (from pandas) (2023.3.post1)\n",
      "Requirement already satisfied: tzdata>=2022.1 in c:\\users\\user\\anaconda3\\lib\\site-packages (from pandas) (2023.3)\n",
      "Requirement already satisfied: numpy>=1.21.0 in c:\\users\\user\\anaconda3\\lib\\site-packages (from pandas) (1.24.3)\n",
      "Requirement already satisfied: scipy>=1.6.0 in c:\\users\\user\\anaconda3\\lib\\site-packages (from scikit-learn) (1.11.1)\n",
      "Requirement already satisfied: threadpoolctl>=3.1.0 in c:\\users\\user\\anaconda3\\lib\\site-packages (from scikit-learn) (3.5.0)\n",
      "Requirement already satisfied: charset-normalizer<4,>=2 in c:\\users\\user\\anaconda3\\lib\\site-packages (from requests) (2.0.4)\n",
      "Requirement already satisfied: idna<4,>=2.5 in c:\\users\\user\\anaconda3\\lib\\site-packages (from requests) (3.4)\n",
      "Requirement already satisfied: urllib3<3,>=1.21.1 in c:\\users\\user\\anaconda3\\lib\\site-packages (from requests) (1.26.16)\n",
      "Requirement already satisfied: certifi>=2017.4.17 in c:\\users\\user\\anaconda3\\lib\\site-packages (from requests) (2023.7.22)\n",
      "Requirement already satisfied: soupsieve>1.2 in c:\\users\\user\\anaconda3\\lib\\site-packages (from beautifulsoup4) (2.4)\n",
      "Requirement already satisfied: six>=1.5 in c:\\users\\user\\anaconda3\\lib\\site-packages (from python-dateutil>=2.8.2->pandas) (1.16.0)\n"
     ]
    }
   ],
   "source": [
    "!pip install pandas scikit-learn requests beautifulsoup4 whois joblib"
   ]
  },
  {
   "cell_type": "code",
   "execution_count": 1,
   "id": "acb74a07-8ec0-4cb6-8a09-1b724336c4be",
   "metadata": {
    "tags": []
   },
   "outputs": [
    {
     "name": "stdout",
     "output_type": "stream",
     "text": [
      "✅ Датасет сохранен в phishing_dataset.csv\n"
     ]
    },
    {
     "data": {
      "text/html": [
       "<div>\n",
       "<style scoped>\n",
       "    .dataframe tbody tr th:only-of-type {\n",
       "        vertical-align: middle;\n",
       "    }\n",
       "\n",
       "    .dataframe tbody tr th {\n",
       "        vertical-align: top;\n",
       "    }\n",
       "\n",
       "    .dataframe thead th {\n",
       "        text-align: right;\n",
       "    }\n",
       "</style>\n",
       "<table border=\"1\" class=\"dataframe\">\n",
       "  <thead>\n",
       "    <tr style=\"text-align: right;\">\n",
       "      <th></th>\n",
       "      <th>url</th>\n",
       "      <th>label</th>\n",
       "    </tr>\n",
       "  </thead>\n",
       "  <tbody>\n",
       "    <tr>\n",
       "      <th>0</th>\n",
       "      <td>http://secure-login.bank.com</td>\n",
       "      <td>1</td>\n",
       "    </tr>\n",
       "    <tr>\n",
       "      <th>1</th>\n",
       "      <td>https://google.com</td>\n",
       "      <td>0</td>\n",
       "    </tr>\n",
       "    <tr>\n",
       "      <th>2</th>\n",
       "      <td>http://verify-account.com</td>\n",
       "      <td>1</td>\n",
       "    </tr>\n",
       "    <tr>\n",
       "      <th>3</th>\n",
       "      <td>https://facebook.com</td>\n",
       "      <td>0</td>\n",
       "    </tr>\n",
       "    <tr>\n",
       "      <th>4</th>\n",
       "      <td>http://paypal-secure-login.com</td>\n",
       "      <td>1</td>\n",
       "    </tr>\n",
       "  </tbody>\n",
       "</table>\n",
       "</div>"
      ],
      "text/plain": [
       "                              url  label\n",
       "0    http://secure-login.bank.com      1\n",
       "1              https://google.com      0\n",
       "2       http://verify-account.com      1\n",
       "3            https://facebook.com      0\n",
       "4  http://paypal-secure-login.com      1"
      ]
     },
     "execution_count": 1,
     "metadata": {},
     "output_type": "execute_result"
    }
   ],
   "source": [
    "import pandas as pd\n",
    "\n",
    "data = {\n",
    "    \"url\": [\n",
    "        \"http://secure-login.bank.com\",\n",
    "        \"https://google.com\",\n",
    "        \"http://verify-account.com\",\n",
    "        \"https://facebook.com\",\n",
    "        \"http://paypal-secure-login.com\",\n",
    "        \"https://amazon.com\",\n",
    "        \"http://free-gift-now.com\",\n",
    "        \"https://github.com\",\n",
    "        \"http://reset-password-now.com\",\n",
    "        \"https://wikipedia.org\"\n",
    "    ],\n",
    "    \"label\": [1, 0, 1, 0, 1, 0, 1, 0, 1, 0]  # 1 = фишинговый, 0 = безопасный\n",
    "}\n",
    "\n",
    "df = pd.DataFrame(data)\n",
    "\n",
    "df.to_csv(\"phishing_dataset.csv\", index=False)\n",
    "\n",
    "print(\"✅ Датасет сохранен в phishing_dataset.csv\")\n",
    "df.head()"
   ]
  },
  {
   "cell_type": "code",
   "execution_count": 8,
   "id": "8967966b-9f51-4357-a084-f3fdbfd16e41",
   "metadata": {
    "tags": []
   },
   "outputs": [
    {
     "data": {
      "text/html": [
       "<div>\n",
       "<style scoped>\n",
       "    .dataframe tbody tr th:only-of-type {\n",
       "        vertical-align: middle;\n",
       "    }\n",
       "\n",
       "    .dataframe tbody tr th {\n",
       "        vertical-align: top;\n",
       "    }\n",
       "\n",
       "    .dataframe thead th {\n",
       "        text-align: right;\n",
       "    }\n",
       "</style>\n",
       "<table border=\"1\" class=\"dataframe\">\n",
       "  <thead>\n",
       "    <tr style=\"text-align: right;\">\n",
       "      <th></th>\n",
       "      <th>url</th>\n",
       "      <th>label</th>\n",
       "    </tr>\n",
       "  </thead>\n",
       "  <tbody>\n",
       "    <tr>\n",
       "      <th>0</th>\n",
       "      <td>http://secure-login.bank.com</td>\n",
       "      <td>1</td>\n",
       "    </tr>\n",
       "    <tr>\n",
       "      <th>1</th>\n",
       "      <td>https://google.com</td>\n",
       "      <td>0</td>\n",
       "    </tr>\n",
       "    <tr>\n",
       "      <th>2</th>\n",
       "      <td>http://verify-account.com</td>\n",
       "      <td>1</td>\n",
       "    </tr>\n",
       "    <tr>\n",
       "      <th>3</th>\n",
       "      <td>https://facebook.com</td>\n",
       "      <td>0</td>\n",
       "    </tr>\n",
       "    <tr>\n",
       "      <th>4</th>\n",
       "      <td>http://paypal-secure-login.com</td>\n",
       "      <td>1</td>\n",
       "    </tr>\n",
       "  </tbody>\n",
       "</table>\n",
       "</div>"
      ],
      "text/plain": [
       "                              url  label\n",
       "0    http://secure-login.bank.com      1\n",
       "1              https://google.com      0\n",
       "2       http://verify-account.com      1\n",
       "3            https://facebook.com      0\n",
       "4  http://paypal-secure-login.com      1"
      ]
     },
     "execution_count": 8,
     "metadata": {},
     "output_type": "execute_result"
    }
   ],
   "source": [
    "df = pd.read_csv(\"phishing_dataset.csv\")\n",
    "\n",
    "df.head()"
   ]
  },
  {
   "cell_type": "code",
   "execution_count": 9,
   "id": "3b6b37e7-c60f-4721-be3c-1335b5212cea",
   "metadata": {
    "tags": []
   },
   "outputs": [
    {
     "name": "stdout",
     "output_type": "stream",
     "text": [
      "Признаки извлечены!\n"
     ]
    },
    {
     "data": {
      "text/html": [
       "<div>\n",
       "<style scoped>\n",
       "    .dataframe tbody tr th:only-of-type {\n",
       "        vertical-align: middle;\n",
       "    }\n",
       "\n",
       "    .dataframe tbody tr th {\n",
       "        vertical-align: top;\n",
       "    }\n",
       "\n",
       "    .dataframe thead th {\n",
       "        text-align: right;\n",
       "    }\n",
       "</style>\n",
       "<table border=\"1\" class=\"dataframe\">\n",
       "  <thead>\n",
       "    <tr style=\"text-align: right;\">\n",
       "      <th></th>\n",
       "      <th>url_length</th>\n",
       "      <th>num_dots</th>\n",
       "      <th>num_slashes</th>\n",
       "      <th>contains_suspicious</th>\n",
       "      <th>label</th>\n",
       "    </tr>\n",
       "  </thead>\n",
       "  <tbody>\n",
       "    <tr>\n",
       "      <th>0</th>\n",
       "      <td>28</td>\n",
       "      <td>2</td>\n",
       "      <td>2</td>\n",
       "      <td>1</td>\n",
       "      <td>1</td>\n",
       "    </tr>\n",
       "    <tr>\n",
       "      <th>1</th>\n",
       "      <td>18</td>\n",
       "      <td>1</td>\n",
       "      <td>2</td>\n",
       "      <td>0</td>\n",
       "      <td>0</td>\n",
       "    </tr>\n",
       "    <tr>\n",
       "      <th>2</th>\n",
       "      <td>25</td>\n",
       "      <td>1</td>\n",
       "      <td>2</td>\n",
       "      <td>1</td>\n",
       "      <td>1</td>\n",
       "    </tr>\n",
       "    <tr>\n",
       "      <th>3</th>\n",
       "      <td>20</td>\n",
       "      <td>1</td>\n",
       "      <td>2</td>\n",
       "      <td>0</td>\n",
       "      <td>0</td>\n",
       "    </tr>\n",
       "    <tr>\n",
       "      <th>4</th>\n",
       "      <td>30</td>\n",
       "      <td>1</td>\n",
       "      <td>2</td>\n",
       "      <td>1</td>\n",
       "      <td>1</td>\n",
       "    </tr>\n",
       "  </tbody>\n",
       "</table>\n",
       "</div>"
      ],
      "text/plain": [
       "   url_length  num_dots  num_slashes  contains_suspicious  label\n",
       "0          28         2            2                    1      1\n",
       "1          18         1            2                    0      0\n",
       "2          25         1            2                    1      1\n",
       "3          20         1            2                    0      0\n",
       "4          30         1            2                    1      1"
      ]
     },
     "execution_count": 9,
     "metadata": {},
     "output_type": "execute_result"
    }
   ],
   "source": [
    "import re\n",
    "from urllib.parse import urlparse\n",
    "\n",
    "def extract_features(url):\n",
    "    parsed_url = urlparse(url)\n",
    "    \n",
    "    url_length = len(url)\n",
    "  \n",
    "    num_dots = parsed_url.netloc.count('.')\n",
    "\n",
    "    num_slashes = url.count(\"/\")\n",
    "    \n",
    "    suspicious_words = [\"secure\", \"account\", \"login\", \"bank\", \"verify\", \"password\", \"gift\", \"reset\"]\n",
    "    contains_suspicious = any(word in url.lower() for word in suspicious_words)\n",
    "    \n",
    "    return [url_length, num_dots, num_slashes, int(contains_suspicious)]\n",
    "\n",
    "\n",
    "df_features = df[\"url\"].apply(extract_features)\n",
    "df_features = pd.DataFrame(df_features.tolist(), columns=[\"url_length\", \"num_dots\", \"num_slashes\", \"contains_suspicious\"])\n",
    "\n",
    "df_features[\"label\"] = df[\"label\"]\n",
    "\n",
    "print(\"Признаки извлечены!\")\n",
    "df_features.head()"
   ]
  },
  {
   "cell_type": "code",
   "execution_count": 10,
   "id": "33252d33-c835-429a-9af5-a03c44385082",
   "metadata": {
    "tags": []
   },
   "outputs": [
    {
     "name": "stdout",
     "output_type": "stream",
     "text": [
      "Точность модели: 100.00%\n",
      "Модель сохранена в phishing_model.pkl\n"
     ]
    }
   ],
   "source": [
    "from sklearn.model_selection import train_test_split\n",
    "from sklearn.ensemble import RandomForestClassifier\n",
    "from sklearn.metrics import accuracy_score\n",
    "import joblib\n",
    "\n",
    "X = df_features.drop(columns=[\"label\"])\n",
    "y = df_features[\"label\"]\n",
    "X_train, X_test, y_train, y_test = train_test_split(X, y, test_size=0.2, random_state=42)\n",
    "\n",
    "model = RandomForestClassifier(n_estimators=100, random_state=42)\n",
    "model.fit(X_train, y_train)\n",
    "\n",
    "y_pred = model.predict(X_test)\n",
    "accuracy = accuracy_score(y_test, y_pred)\n",
    "print(f\"Точность модели: {accuracy * 100:.2f}%\")\n",
    "\n",
    "joblib.dump(model, \"phishing_model.pkl\")\n",
    "print(\"Модель сохранена в phishing_model.pkl\")"
   ]
  },
  {
   "cell_type": "code",
   "execution_count": 4,
   "id": "94d0f40e-d37a-4af7-973c-7e00d4d45714",
   "metadata": {
    "tags": []
   },
   "outputs": [
    {
     "ename": "NameError",
     "evalue": "name 'extract_features' is not defined",
     "output_type": "error",
     "traceback": [
      "\u001b[1;31m---------------------------------------------------------------------------\u001b[0m",
      "\u001b[1;31mNameError\u001b[0m                                 Traceback (most recent call last)",
      "Cell \u001b[1;32mIn[4], line 13\u001b[0m\n\u001b[0;32m     10\u001b[0m     prediction \u001b[38;5;241m=\u001b[39m model\u001b[38;5;241m.\u001b[39mpredict(features_df)\n\u001b[0;32m     11\u001b[0m     \u001b[38;5;28;01mreturn\u001b[39;00m \u001b[38;5;124m\"\u001b[39m\u001b[38;5;124mФишинговый сайт!\u001b[39m\u001b[38;5;124m\"\u001b[39m \u001b[38;5;28;01mif\u001b[39;00m prediction[\u001b[38;5;241m0\u001b[39m] \u001b[38;5;241m==\u001b[39m \u001b[38;5;241m1\u001b[39m \u001b[38;5;28;01melse\u001b[39;00m \u001b[38;5;124m\"\u001b[39m\u001b[38;5;124mБезопасный сайт.\u001b[39m\u001b[38;5;124m\"\u001b[39m\n\u001b[1;32m---> 13\u001b[0m \u001b[38;5;28mprint\u001b[39m(predict_phishing(\u001b[38;5;124m\"\u001b[39m\u001b[38;5;124mhttp://secure-login.bank.com\u001b[39m\u001b[38;5;124m\"\u001b[39m))\n\u001b[0;32m     14\u001b[0m \u001b[38;5;28mprint\u001b[39m(predict_phishing(\u001b[38;5;124m\"\u001b[39m\u001b[38;5;124mhttps://google.com\u001b[39m\u001b[38;5;124m\"\u001b[39m))\n\u001b[0;32m     15\u001b[0m \u001b[38;5;28mprint\u001b[39m(predict_phishing(\u001b[38;5;124m\"\u001b[39m\u001b[38;5;124mhttp://free-gift-now.com\u001b[39m\u001b[38;5;124m\"\u001b[39m))\n",
      "Cell \u001b[1;32mIn[4], line 7\u001b[0m, in \u001b[0;36mpredict_phishing\u001b[1;34m(url)\u001b[0m\n\u001b[0;32m      6\u001b[0m \u001b[38;5;28;01mdef\u001b[39;00m \u001b[38;5;21mpredict_phishing\u001b[39m(url):\n\u001b[1;32m----> 7\u001b[0m     features \u001b[38;5;241m=\u001b[39m extract_features(url)\n\u001b[0;32m      8\u001b[0m     feature_names \u001b[38;5;241m=\u001b[39m [\u001b[38;5;124m\"\u001b[39m\u001b[38;5;124murl_length\u001b[39m\u001b[38;5;124m\"\u001b[39m, \u001b[38;5;124m\"\u001b[39m\u001b[38;5;124mnum_dots\u001b[39m\u001b[38;5;124m\"\u001b[39m, \u001b[38;5;124m\"\u001b[39m\u001b[38;5;124mnum_slashes\u001b[39m\u001b[38;5;124m\"\u001b[39m, \u001b[38;5;124m\"\u001b[39m\u001b[38;5;124mcontains_suspicious\u001b[39m\u001b[38;5;124m\"\u001b[39m]\n\u001b[0;32m      9\u001b[0m     features_df \u001b[38;5;241m=\u001b[39m pd\u001b[38;5;241m.\u001b[39mDataFrame([features], columns\u001b[38;5;241m=\u001b[39mfeature_names)\n",
      "\u001b[1;31mNameError\u001b[0m: name 'extract_features' is not defined"
     ]
    }
   ],
   "source": [
    "import pandas as pd\n",
    "import joblib\n",
    "\n",
    "model = joblib.load(\"phishing_model.pkl\")\n",
    "\n",
    "def predict_phishing(url):\n",
    "    features = extract_features(url)\n",
    "    feature_names = [\"url_length\", \"num_dots\", \"num_slashes\", \"contains_suspicious\"]\n",
    "    features_df = pd.DataFrame([features], columns=feature_names)\n",
    "    prediction = model.predict(features_df)\n",
    "    return \"Фишинговый сайт!\" if prediction[0] == 1 else \"Безопасный сайт.\"\n",
    "\n",
    "print(predict_phishing(\"http://secure-login.bank.com\"))\n",
    "print(predict_phishing(\"https://google.com\"))\n",
    "print(predict_phishing(\"http://free-gift-now.com\"))"
   ]
  },
  {
   "cell_type": "code",
   "execution_count": 5,
   "id": "02556682-a18c-4131-8ea7-63c92b02c7fa",
   "metadata": {
    "tags": []
   },
   "outputs": [
    {
     "name": "stdout",
     "output_type": "stream",
     "text": [
      "Optimization 1\n"
     ]
    }
   ],
   "source": [
    "print (\"Optimization 1\")"
   ]
  },
  {
   "cell_type": "code",
   "execution_count": 2,
   "id": "5c823b02-c13f-460b-b274-64da1ea428a1",
   "metadata": {},
   "outputs": [
    {
     "name": "stdout",
     "output_type": "stream",
     "text": [
      "-1\n",
      "-1\n"
     ]
    }
   ],
   "source": [
    "import whois\n",
    "import datetime\n",
    "\n",
    "def get_domain_age(url):\n",
    "    try:\n",
    "        domain_info = whois.whois(url)\n",
    "        if domain_info.creation_date:\n",
    "            creation_date = domain_info.creation_date[0] if isinstance(domain_info.creation_date, list) else domain_info.creation_date\n",
    "            age = (datetime.datetime.now() - creation_date).days\n",
    "            return age\n",
    "    except:\n",
    "        return -1  \n",
    "\n",
    "    return -1  \n",
    "\n",
    "\n",
    "print(get_domain_age(\"https://google.com\"))\n",
    "print(get_domain_age(\"http://secure-login.bank.com\"))"
   ]
  },
  {
   "cell_type": "code",
   "execution_count": 3,
   "id": "66ada3a2-f79f-4b83-a587-ed56ee23046b",
   "metadata": {},
   "outputs": [
    {
     "name": "stdout",
     "output_type": "stream",
     "text": [
      "[1, 0, 9]\n",
      "[-1, -1, -1]\n"
     ]
    }
   ],
   "source": [
    "import requests\n",
    "from bs4 import BeautifulSoup\n",
    "\n",
    "def analyze_html(url):\n",
    "    try:\n",
    "        response = requests.get(url, timeout=5)\n",
    "        soup = BeautifulSoup(response.text, \"html.parser\")\n",
    "\n",
    "        num_forms = len(soup.find_all(\"form\"))\n",
    "        num_iframes = len(soup.find_all(\"iframe\"))\n",
    "        num_scripts = len(soup.find_all(\"script\"))\n",
    "\n",
    "        return [num_forms, num_iframes, num_scripts]\n",
    "    except:\n",
    "        return [-1, -1, -1] \n",
    "\n",
    "\n",
    "print(analyze_html(\"https://google.com\"))\n",
    "print(analyze_html(\"http://secure-login.bank.com\"))"
   ]
  },
  {
   "cell_type": "code",
   "execution_count": 4,
   "id": "08717abf-671f-42d9-a04e-28b42f676711",
   "metadata": {},
   "outputs": [],
   "source": [
    "def extract_features(url):\n",
    "    parsed_url = urlparse(url)\n",
    "    \n",
    "    url_length = len(url)\n",
    "    num_dots = parsed_url.netloc.count('.')\n",
    "    num_slashes = url.count(\"/\")\n",
    "    suspicious_words = [\"secure\", \"account\", \"login\", \"bank\", \"verify\", \"password\", \"gift\", \"reset\"]\n",
    "    contains_suspicious = any(word in url.lower() for word in suspicious_words)\n",
    "    \n",
    "    domain_age = get_domain_age(url)\n",
    "    html_features = analyze_html(url) \n",
    "\n",
    "    return [url_length, num_dots, num_slashes, int(contains_suspicious), domain_age] + html_features"
   ]
  },
  {
   "cell_type": "code",
   "execution_count": 5,
   "id": "f53defda-d2bd-4b88-9d37-ddb221cbf2bf",
   "metadata": {},
   "outputs": [
    {
     "name": "stdout",
     "output_type": "stream",
     "text": [
      "Optimization 2\n"
     ]
    }
   ],
   "source": [
    "print (\"Optimization 2\")"
   ]
  },
  {
   "cell_type": "code",
   "execution_count": 6,
   "id": "7cf08004-5a78-4c9d-8e3a-b401dc4c3a09",
   "metadata": {},
   "outputs": [
    {
     "name": "stdout",
     "output_type": "stream",
     "text": [
      "Collecting xgboost\n",
      "  Downloading xgboost-2.1.4-py3-none-macosx_12_0_arm64.whl.metadata (2.1 kB)\n",
      "Requirement already satisfied: numpy in /opt/anaconda3/lib/python3.12/site-packages (from xgboost) (1.26.4)\n",
      "Requirement already satisfied: scipy in /opt/anaconda3/lib/python3.12/site-packages (from xgboost) (1.13.1)\n",
      "Downloading xgboost-2.1.4-py3-none-macosx_12_0_arm64.whl (1.9 MB)\n",
      "\u001b[2K   \u001b[90m━━━━━━━━━━━━━━━━━━━━━━━━━━━━━━━━━━━━━━━━\u001b[0m \u001b[32m1.9/1.9 MB\u001b[0m \u001b[31m2.2 MB/s\u001b[0m eta \u001b[36m0:00:00\u001b[0ma \u001b[36m0:00:01\u001b[0m\n",
      "\u001b[?25hInstalling collected packages: xgboost\n",
      "Successfully installed xgboost-2.1.4\n"
     ]
    }
   ],
   "source": [
    "!pip install xgboost"
   ]
  },
  {
   "cell_type": "code",
   "execution_count": 14,
   "id": "41db467c-d820-43a3-8828-4ced27cfdc30",
   "metadata": {},
   "outputs": [],
   "source": [
    "from urllib.parse import urlparse\n",
    "\n",
    "def extract_features(url):\n",
    "    parsed_url = urlparse(url)\n",
    "\n",
    "    url_length = len(url)\n",
    "    num_dots = parsed_url.netloc.count('.')\n",
    "    num_slashes = url.count(\"/\")\n",
    "    suspicious_words = [\"secure\", \"account\", \"login\", \"bank\", \"verify\", \"password\", \"gift\", \"reset\"]\n",
    "    contains_suspicious = any(word in url.lower() for word in suspicious_words)\n",
    "\n",
    "    domain_age = get_domain_age(url)\n",
    "    html_features = analyze_html(url) \n",
    "\n",
    "    return [url_length, num_dots, num_slashes, int(contains_suspicious), domain_age] + html_features"
   ]
  },
  {
   "cell_type": "code",
   "execution_count": 15,
   "id": "86de129c-9849-4bdb-9a89-f435c154b5d7",
   "metadata": {},
   "outputs": [],
   "source": [
    "df_features = df[\"url\"].apply(extract_features)"
   ]
  },
  {
   "cell_type": "code",
   "execution_count": 16,
   "id": "6a8e7b8e-b22d-4606-8737-2759bc06960a",
   "metadata": {},
   "outputs": [
    {
     "name": "stdout",
     "output_type": "stream",
     "text": [
      "df_features успешно создана!\n"
     ]
    },
    {
     "data": {
      "text/html": [
       "<div>\n",
       "<style scoped>\n",
       "    .dataframe tbody tr th:only-of-type {\n",
       "        vertical-align: middle;\n",
       "    }\n",
       "\n",
       "    .dataframe tbody tr th {\n",
       "        vertical-align: top;\n",
       "    }\n",
       "\n",
       "    .dataframe thead th {\n",
       "        text-align: right;\n",
       "    }\n",
       "</style>\n",
       "<table border=\"1\" class=\"dataframe\">\n",
       "  <thead>\n",
       "    <tr style=\"text-align: right;\">\n",
       "      <th></th>\n",
       "      <th>url_length</th>\n",
       "      <th>num_dots</th>\n",
       "      <th>num_slashes</th>\n",
       "      <th>contains_suspicious</th>\n",
       "      <th>domain_age</th>\n",
       "      <th>num_forms</th>\n",
       "      <th>num_iframes</th>\n",
       "      <th>num_scripts</th>\n",
       "      <th>label</th>\n",
       "    </tr>\n",
       "  </thead>\n",
       "  <tbody>\n",
       "    <tr>\n",
       "      <th>0</th>\n",
       "      <td>28</td>\n",
       "      <td>2</td>\n",
       "      <td>2</td>\n",
       "      <td>1</td>\n",
       "      <td>-1</td>\n",
       "      <td>-1</td>\n",
       "      <td>-1</td>\n",
       "      <td>-1</td>\n",
       "      <td>1</td>\n",
       "    </tr>\n",
       "    <tr>\n",
       "      <th>1</th>\n",
       "      <td>18</td>\n",
       "      <td>1</td>\n",
       "      <td>2</td>\n",
       "      <td>0</td>\n",
       "      <td>-1</td>\n",
       "      <td>1</td>\n",
       "      <td>0</td>\n",
       "      <td>9</td>\n",
       "      <td>0</td>\n",
       "    </tr>\n",
       "    <tr>\n",
       "      <th>2</th>\n",
       "      <td>25</td>\n",
       "      <td>1</td>\n",
       "      <td>2</td>\n",
       "      <td>1</td>\n",
       "      <td>-1</td>\n",
       "      <td>0</td>\n",
       "      <td>0</td>\n",
       "      <td>1</td>\n",
       "      <td>1</td>\n",
       "    </tr>\n",
       "    <tr>\n",
       "      <th>3</th>\n",
       "      <td>20</td>\n",
       "      <td>1</td>\n",
       "      <td>2</td>\n",
       "      <td>0</td>\n",
       "      <td>-1</td>\n",
       "      <td>1</td>\n",
       "      <td>0</td>\n",
       "      <td>18</td>\n",
       "      <td>0</td>\n",
       "    </tr>\n",
       "    <tr>\n",
       "      <th>4</th>\n",
       "      <td>30</td>\n",
       "      <td>1</td>\n",
       "      <td>2</td>\n",
       "      <td>1</td>\n",
       "      <td>-1</td>\n",
       "      <td>0</td>\n",
       "      <td>0</td>\n",
       "      <td>0</td>\n",
       "      <td>1</td>\n",
       "    </tr>\n",
       "  </tbody>\n",
       "</table>\n",
       "</div>"
      ],
      "text/plain": [
       "   url_length  num_dots  num_slashes  contains_suspicious  domain_age  \\\n",
       "0          28         2            2                    1          -1   \n",
       "1          18         1            2                    0          -1   \n",
       "2          25         1            2                    1          -1   \n",
       "3          20         1            2                    0          -1   \n",
       "4          30         1            2                    1          -1   \n",
       "\n",
       "   num_forms  num_iframes  num_scripts  label  \n",
       "0         -1           -1           -1      1  \n",
       "1          1            0            9      0  \n",
       "2          0            0            1      1  \n",
       "3          1            0           18      0  \n",
       "4          0            0            0      1  "
      ]
     },
     "execution_count": 16,
     "metadata": {},
     "output_type": "execute_result"
    }
   ],
   "source": [
    "import pandas as pd\n",
    "\n",
    "df = pd.read_csv(\"phishing_dataset.csv\")\n",
    "\n",
    "df_features = df[\"url\"].apply(extract_features)\n",
    "df_features = pd.DataFrame(df_features.tolist(), columns=[\"url_length\", \"num_dots\", \"num_slashes\", \"contains_suspicious\", \"domain_age\", \"num_forms\", \"num_iframes\", \"num_scripts\"])\n",
    "\n",
    "df_features[\"label\"] = df[\"label\"]\n",
    "\n",
    "print(\"df_features успешно создана!\")\n",
    "df_features.head()"
   ]
  },
  {
   "cell_type": "code",
   "execution_count": 17,
   "id": "4519ce0d-f8a9-481b-a439-536e58868e26",
   "metadata": {},
   "outputs": [
    {
     "name": "stdout",
     "output_type": "stream",
     "text": [
      "Улучшенная точность модели: 100.00%\n"
     ]
    },
    {
     "data": {
      "text/plain": [
       "['phishing_model_xgb.pkl']"
      ]
     },
     "execution_count": 17,
     "metadata": {},
     "output_type": "execute_result"
    }
   ],
   "source": [
    "from xgboost import XGBClassifier\n",
    "from sklearn.model_selection import train_test_split\n",
    "from sklearn.metrics import accuracy_score\n",
    "\n",
    "X = df_features.drop(columns=[\"label\"])\n",
    "y = df_features[\"label\"]\n",
    "\n",
    "X_train, X_test, y_train, y_test = train_test_split(X, y, test_size=0.2, random_state=42)\n",
    "\n",
    "model = XGBClassifier(n_estimators=100, learning_rate=0.1, max_depth=5)\n",
    "model.fit(X_train, y_train)\n",
    "\n",
    "y_pred = model.predict(X_test)\n",
    "accuracy = accuracy_score(y_test, y_pred)\n",
    "print(f\"Улучшенная точность модели: {accuracy * 100:.2f}%\")\n",
    "\n",
    "import joblib\n",
    "joblib.dump(model, \"phishing_model_xgb.pkl\")"
   ]
  },
  {
   "cell_type": "code",
   "execution_count": null,
   "id": "f4e00819-6b97-4f00-acd5-ecc12f1661b3",
   "metadata": {},
   "outputs": [],
   "source": []
  },
  {
   "cell_type": "code",
   "execution_count": null,
   "id": "c92dc6c8-b71b-4620-aee3-3f23e344ff5f",
   "metadata": {},
   "outputs": [],
   "source": []
  }
 ],
 "metadata": {
  "kernelspec": {
   "display_name": "Python 3 (ipykernel)",
   "language": "python",
   "name": "python3"
  },
  "language_info": {
   "codemirror_mode": {
    "name": "ipython",
    "version": 3
   },
   "file_extension": ".py",
   "mimetype": "text/x-python",
   "name": "python",
   "nbconvert_exporter": "python",
   "pygments_lexer": "ipython3",
   "version": "3.11.5"
  }
 },
 "nbformat": 4,
 "nbformat_minor": 5
}
