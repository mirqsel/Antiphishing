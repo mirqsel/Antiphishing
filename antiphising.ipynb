{
 "cells": [
  {
   "cell_type": "code",
   "execution_count": 2,
   "id": "ea3a19f0-9fd0-4cb1-97fa-da340d9b7cd0",
   "metadata": {},
   "outputs": [
    {
     "name": "stdout",
     "output_type": "stream",
     "text": [
      "Requirement already satisfied: requests in c:\\users\\user\\anaconda3\\lib\\site-packages (2.31.0)\n",
      "Requirement already satisfied: beautifulsoup4 in c:\\users\\user\\anaconda3\\lib\\site-packages (4.12.2)\n",
      "Requirement already satisfied: whois in c:\\users\\user\\anaconda3\\lib\\site-packages (1.20240129.2)\n",
      "Requirement already satisfied: charset-normalizer<4,>=2 in c:\\users\\user\\anaconda3\\lib\\site-packages (from requests) (2.0.4)\n",
      "Requirement already satisfied: idna<4,>=2.5 in c:\\users\\user\\anaconda3\\lib\\site-packages (from requests) (3.4)\n",
      "Requirement already satisfied: urllib3<3,>=1.21.1 in c:\\users\\user\\anaconda3\\lib\\site-packages (from requests) (1.26.16)\n",
      "Requirement already satisfied: certifi>=2017.4.17 in c:\\users\\user\\anaconda3\\lib\\site-packages (from requests) (2023.7.22)\n",
      "Requirement already satisfied: soupsieve>1.2 in c:\\users\\user\\anaconda3\\lib\\site-packages (from beautifulsoup4) (2.4)\n"
     ]
    }
   ],
   "source": [
    "!pip install requests beautifulsoup4 whois"
   ]
  },
  {
   "cell_type": "code",
   "execution_count": 1,
   "id": "45b88ef0-c300-4213-825c-a59dc33d6769",
   "metadata": {},
   "outputs": [
    {
     "name": "stdout",
     "output_type": "stream",
     "text": [
      "Warning! The URL contains suspicious words.\n"
     ]
    }
   ],
   "source": [
    "import requests\n",
    "import whois\n",
    "from bs4 import BeautifulSoup\n",
    "\n",
    "def is_phishing_site(url):\n",
    "    try:\n",
    "        if not url.startswith(\"https://\"):\n",
    "            return \"The site does not use HTTPS — it may be a phishing site!\"\n",
    "\n",
    "        suspicious_words = [\"secure\", \"login\", \"verify\", \"account\", \"banking\"]\n",
    "        if any(word in url.lower() for word in suspicious_words):\n",
    "            return \"Warning! The URL contains suspicious words.\"\n",
    "\n",
    "        domain_info = whois.whois(url)\n",
    "        if domain_info.creation_date:\n",
    "            age = (pd.Timestamp.now() - pd.to_datetime(domain_info.creation_date)).days\n",
    "            if age < 180:\n",
    "                return \"The site was registered less than 6 months ago — high phishing risk!\"\n",
    "\n",
    "        phish_url = \"https://openphish.com/feed.txt\"\n",
    "        phish_sites = requests.get(phish_url).text.split(\"\\n\")\n",
    "        if url in phish_sites:\n",
    "            return \"This site is listed in the OpenPhish phishing database!\"\n",
    "\n",
    "        return \"The site appears to be safe.\"\n",
    "\n",
    "    except Exception as e:\n",
    "        return f\"Error during verification: {e}\"\n",
    "\n",
    "# Test\n",
    "print(is_phishing_site(\"https://secure-login.bank.com\"))\n"
   ]
  },
  {
   "cell_type": "code",
   "execution_count": 4,
   "id": "513b993a-c768-4110-95c3-fb1f082150d1",
   "metadata": {},
   "outputs": [
    {
     "name": "stdin",
     "output_type": "stream",
     "text": [
      "Enter the website URL for verification:  freemoney.com\n"
     ]
    },
    {
     "name": "stdout",
     "output_type": "stream",
     "text": [
      "The site does not use HTTPS — it may be a phishing site!\n"
     ]
    }
   ],
   "source": [
    "url_to_check = input(\"Enter the website URL for verification: \")  \n",
    "result = is_phishing_site(url_to_check)  \n",
    "print(result)  \n"
   ]
  },
  {
   "cell_type": "code",
   "execution_count": null,
   "id": "07e16243-ba24-4809-8b88-e08a0a391f28",
   "metadata": {},
   "outputs": [],
   "source": []
  }
 ],
 "metadata": {
  "kernelspec": {
   "display_name": "Python 3 (ipykernel)",
   "language": "python",
   "name": "python3"
  },
  "language_info": {
   "codemirror_mode": {
    "name": "ipython",
    "version": 3
   },
   "file_extension": ".py",
   "mimetype": "text/x-python",
   "name": "python",
   "nbconvert_exporter": "python",
   "pygments_lexer": "ipython3",
   "version": "3.11.5"
  }
 },
 "nbformat": 4,
 "nbformat_minor": 5
}
